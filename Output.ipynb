{
 "cells": [
  {
   "cell_type": "code",
   "execution_count": 1,
   "metadata": {},
   "outputs": [],
   "source": [
    "import time\n",
    "import math\n",
    "import pyaudio\n",
    "import numpy as np\n",
    "from scipy.signal import butter, lfilter, freqz\n",
    "import matplotlib.pyplot as plt\n",
    "import RPi.GPIO as GPIO\n",
    "import spiUtils as su\n",
    "import spidev"
   ]
  },
  {
   "cell_type": "markdown",
   "metadata": {},
   "source": [
    "### pyAudio functions"
   ]
  },
  {
   "cell_type": "code",
   "execution_count": 2,
   "metadata": {},
   "outputs": [],
   "source": [
    "#class for writing to speaker\n",
    "class Output:\n",
    "    pa = None;\n",
    "    s  = None;\n",
    "    #call this function to open output and create stream\n",
    "    def __init__(self,rate=8000):\n",
    "        \"\"\"\n",
    "        Output class constructor initializes and opens pyAudio output\n",
    "        stream. Allows sending audio data to an audio output device via python.\n",
    "        \"\"\"\n",
    "        #print (\"init_audio: Create PyAudio object\")\n",
    "        self.pa = pyaudio.PyAudio()\n",
    "        #print (\"init_audio: Open stream\")\n",
    "        self.s = self.pa.open(output=True,\n",
    "                channels=1,\n",
    "                rate=rate,\n",
    "                format=pyaudio.paInt16,\n",
    "                output_device_index=0)\n",
    "        print (\"audio stream initialized\")\n",
    "\n",
    "    def close_audio(self):\n",
    "        \"\"\"\n",
    "        Output class destructor closes and destructs output object\n",
    "        and associated pyAudio stream.\n",
    "        \"\"\"\n",
    "        #print (\"close_audio: Closing stream\")\n",
    "        self.s.close()\n",
    "        print (\"close_audio: Terminating PyAudio Object\")\n",
    "        self.pa.terminate()\n",
    "        \n",
    "    #create a numpy array of a given freqeuncy    \n",
    "    def customNote(self, freq, len, amp=5000, rate=8000, \n",
    "            vibrato=0,vibratoFreq=0,\n",
    "            trembelo=0, trembeloFreq=0):\n",
    "        \"\"\"\n",
    "        Creates a uniform note (a sinusoidal waveform of with characteristics specified\n",
    "        by function parameters) returned as a 16bit integer numpy array.\n",
    "        \"\"\"\n",
    "        # get time array\n",
    "        t = np.linspace(0,len,len*rate)\n",
    "        # create a modulated tone\n",
    "        data = np.sin(2*np.pi*(freq + vibrato*np.sin(2*np.pi*t*vibratoFreq))*t)\\\n",
    "               *(amp+trembelo*np.cos(2*np.pi*t*trembeloFreq))\n",
    "        return data.astype(np.int16) # two byte integers\n",
    "\n",
    "    # overloaded note function that derives note params from list of pot readings\n",
    "    def note(self, freq, pot_readings):\n",
    "        \"\"\"\n",
    "        Creates a uniform note (a sinusoidal waveform of with characteristics specified\n",
    "        by function parameters) returned as a 16bit integer numpy array.\n",
    "        \"\"\"\n",
    "        len=1\n",
    "        RATE = 8000\n",
    "        amp = pot_readings[0]*4000 + 3000 # [3000, 7000]\n",
    "        vibrato = pot_readings[1] # [0, 1]\n",
    "        vibratoFreq = pot_readings[2]*100 # [0, 100]\n",
    "        \n",
    "        #trembelo = pot_readings[3] # [0, 1]\n",
    "        trembelo = 1\n",
    "        trembeloFreq = pot_readings[4]*100 # [0, 100]\n",
    "        print(amp, vibrato, vibratoFreq, trembelo, trembeloFreq)\n",
    "        # get time array\n",
    "        t = np.linspace(0,len,len*RATE)\n",
    "        # create a modulated note\n",
    "        data = np.sin(2*np.pi*(freq + vibrato*np.sin(2*np.pi*t*vibratoFreq))*t)\\\n",
    "               *(amp+trembelo*np.cos(2*np.pi*t*trembeloFreq))\n",
    "        return data.astype(np.int16) # two byte integers\n",
    "    \n",
    "    #write numpy array to stream\n",
    "    def tone(self, note):\n",
    "        \"\"\"\n",
    "        Takes a 16bit integer numpy array, representing a note, as an argument\n",
    "        and plays the represented note via the pyAudio stream.\n",
    "        \"\"\"\n",
    "        # generate sound\n",
    "        self.s.write(note)\n",
    "    \n",
    "    #add two numpy arrays together\n",
    "    def add_note(self, note1, note2):\n",
    "        \"\"\"\n",
    "        combines two notes (of the same length) element-wise to produce a new note.\n",
    "        \"\"\"\n",
    "        return note1 + note2"
   ]
  },
  {
   "cell_type": "markdown",
   "metadata": {},
   "source": [
    "### signal processing functions"
   ]
  },
  {
   "cell_type": "code",
   "execution_count": 3,
   "metadata": {},
   "outputs": [],
   "source": [
    "def butter_lowpass(cutoff, fs, order=5):\n",
    "    nyq = 0.5 * fs\n",
    "    normal_cutoff = cutoff / nyq\n",
    "    b, a = butter(order, normal_cutoff, btype='low', analog=False)\n",
    "    return b, a\n",
    "\n",
    "def butter_lowpass_filter(data, cutoff, fs, order=5):\n",
    "    b, a = butter_lowpass(cutoff, fs, order=order)\n",
    "    y = lfilter(b, a, data)\n",
    "    return y\n",
    "\n",
    "def interp_upsamp(data, SAMP_DURATION=10, MAG_SCALAR=1):\n",
    "    \"\"\"\n",
    "    Uses linear interpolation to upsample numpy arrays to a uniform shape\n",
    "    to accomodate the pyAudio stream parameters.\n",
    "    \"\"\"\n",
    "    SAMP_DURATION = float(SAMP_DURATION) # seconds\n",
    "    data_len = len(data)\n",
    "    fs = data_len / SAMP_DURATION\n",
    "    xp = np.arange(data_len)\n",
    "    x = np.linspace(0, data_len, 8000*int(SAMP_DURATION))\n",
    "    upsamp_data = np.interp(x, xp, data) * MAG_SCALAR\n",
    "    return upsamp_data\n",
    "\n",
    "def increaseFreq():\n",
    "    '''\n",
    "    increments the global frequency value, if the value if not at maximum\n",
    "    '''\n",
    "    MAX_FREQ = 523.25\n",
    "    global freq\n",
    "    global keys_list\n",
    "    if freq < MAX_FREQ:\n",
    "        freq_idx = keys_list.index(freq)\n",
    "        freq = keys_list[freq_idx+1]\n",
    "        \n",
    "def decreaseFreq():\n",
    "    '''\n",
    "    decrements the global frequency value, if the value if not at minimum\n",
    "    '''\n",
    "    MIN_FREQ = 261.63\n",
    "    global freq\n",
    "    global keys_list\n",
    "    if freq > MIN_FREQ:\n",
    "        freq_idx = keys_list.index(freq)\n",
    "        freq = keys_list[freq_idx-1]\n",
    "    "
   ]
  },
  {
   "cell_type": "markdown",
   "metadata": {},
   "source": [
    "### Potentiometer SPI sampling functions"
   ]
  },
  {
   "cell_type": "code",
   "execution_count": 4,
   "metadata": {},
   "outputs": [
    {
     "name": "stderr",
     "output_type": "stream",
     "text": [
      "/usr/local/lib/python3.5/dist-packages/ipykernel_launcher.py:6: RuntimeWarning: This channel is already in use, continuing anyway.  Use GPIO.setwarnings(False) to disable warnings.\n",
      "  \n",
      "/usr/local/lib/python3.5/dist-packages/ipykernel_launcher.py:9: RuntimeWarning: This channel is already in use, continuing anyway.  Use GPIO.setwarnings(False) to disable warnings.\n",
      "  if __name__ == '__main__':\n"
     ]
    }
   ],
   "source": [
    "# GPIO setup\n",
    "GPIO.setmode(GPIO.BCM)\n",
    "\n",
    "# ADC setup\n",
    "ADC2 = 4\n",
    "GPIO.setup(ADC2, GPIO.OUT)\n",
    "\n",
    "ADC3 = 5\n",
    "GPIO.setup(ADC3, GPIO.OUT)\n",
    "\n",
    "# frequency button setup\n",
    "up_freq_button = 23\n",
    "GPIO.setup(up_freq_button, GPIO.IN, pull_up_down=GPIO.PUD_DOWN)\n",
    "\n",
    "down_freq_button = 25\n",
    "GPIO.setup(down_freq_button, GPIO.IN, pull_up_down=GPIO.PUD_DOWN)    \n",
    "\n",
    "def initSpi():\n",
    "    spi1 = spidev.SpiDev()       # Create a new spidev object\n",
    "    spi1.open(0,0)\n",
    "    spi1.max_speed_hz = int(20e5) # Set clock speed to \n",
    "\n",
    "    spi2 = spidev.SpiDev()       # Create a new spidev object\n",
    "    spi2.open(0,1)\n",
    "    spi2.max_speed_hz = int(20e5) # Set clock speed to ___\n",
    "    \n",
    "    GPIO.output(ADC2, True)\n",
    "    GPIO.output(ADC3, True)\n",
    "    \n",
    "    return spi1, spi2\n",
    "\n",
    "def readPiezo(spi1):\n",
    "    config = [0b01101000, 0] # Measure from channel 0\n",
    "    myBytes = spi1.xfer2(config) # Send and get array of 2 bytes from ADC\n",
    "    myData = (myBytes[0] << 8) | myBytes[1] # Convert returned bytes to integer value\n",
    "    return myData\n",
    "\n",
    "def readPot(input, spi1, spi2):\n",
    "    if(input==0):\n",
    "        config = [0b01111000, 0] # Measure from channel 1\n",
    "        myBytes = spi1.xfer2(config)             # Send and get array of 2 bytes from ADC\n",
    "        myData = (myBytes[0] << 8) | myBytes[1] # Convert returned bytes to integer value\n",
    "        return myData   \n",
    "     \n",
    "    if(input==1):\n",
    "        config = [0b01101000, 0] # Measure from channel 0\n",
    "        GPIO.output(ADC2, False)\n",
    "        myBytes = spi2.xfer2(config)             # Send and get array of 2 bytes from ADC\n",
    "        GPIO.output(ADC2, True)\n",
    "        myData = (myBytes[0] << 8) | myBytes[1] # Convert returned bytes to integer value\n",
    "        return myData\n",
    "    \n",
    "    if(input==2):\n",
    "        config = [0b01111000, 0] # Measure from channel 1\n",
    "        GPIO.output(ADC2, False)\n",
    "        myBytes = spi2.xfer2(config)             # Send and get array of 2 bytes from ADC\n",
    "        GPIO.output(ADC2, True)\n",
    "        myData = (myBytes[0] << 8) | myBytes[1] # Convert returned bytes to integer value\n",
    "        return myData\n",
    "    \n",
    "    if(input==3):\n",
    "        config = [0b01101000, 0] # Measure from channel 0\n",
    "        GPIO.output(ADC3, False)\n",
    "        myBytes = spi2.xfer2(config)             # Send and get array of 2 bytes from ADC\n",
    "        GPIO.output(ADC3, True)\n",
    "        myData = (myBytes[0] << 8) | myBytes[1] # Convert returned bytes to integer value\n",
    "        return myData\n",
    "    \n",
    "    if(input==4):\n",
    "        config = [0b01111000, 0] # Measure from channel 1\n",
    "        GPIO.output(ADC3, False)\n",
    "        myBytes = spi2.xfer2(config)             # Send and get array of 2 bytes from ADC\n",
    "        GPIO.output(ADC3, True)\n",
    "        myData = (myBytes[0] << 8) | myBytes[1] # Convert returned bytes to integer value\n",
    "        return myData\n",
    "\n",
    "def normalizePotVal(val):\n",
    "    '''\n",
    "    Takes a potentiometer reading and returns a normalized value [0, 1]\n",
    "    '''\n",
    "    POT_MAX = 512.0\n",
    "    POT_MIN = 0.0\n",
    "    norm_val = (val - POT_MIN) / (POT_MAX - POT_MIN)\n",
    "    return norm_val"
   ]
  },
  {
   "cell_type": "markdown",
   "metadata": {},
   "source": [
    "### tone library"
   ]
  },
  {
   "cell_type": "code",
   "execution_count": 5,
   "metadata": {},
   "outputs": [],
   "source": [
    "keys = {\n",
    "    \"c4\": 261.63,\n",
    "    \"d4\": 293.66,\n",
    "    \"e4\": 329.63,\n",
    "    \"f4\": 349.23,\n",
    "    \"g4\": 392,\n",
    "    \"a4\": 440,\n",
    "    \"b4\": 493.88,\n",
    "    \"c5\": 523.25\n",
    "}\n",
    "\n",
    "keys_list = [\n",
    "    261.63,\n",
    "    293.66,\n",
    "    329.63,\n",
    "    349.23,\n",
    "    392,\n",
    "    440,\n",
    "    493.88,\n",
    "    523.25\n",
    "]"
   ]
  },
  {
   "cell_type": "code",
   "execution_count": 6,
   "metadata": {},
   "outputs": [],
   "source": [
    "# allocate a thread for listening to up button (increase freq)\n",
    "GPIO.add_event_detect(up_freq_button,\n",
    "                      GPIO.RISING,\n",
    "                      callback=increaseFreq,\n",
    "                      bouncetime=200)\n",
    "# allocate a thread for listening to down button (decrease freq)\n",
    "GPIO.add_event_detect(down_freq_button,\n",
    "                      GPIO.RISING,\n",
    "                      callback=decreaseFreq,\n",
    "                      bouncetime=200)"
   ]
  },
  {
   "cell_type": "code",
   "execution_count": 7,
   "metadata": {},
   "outputs": [
    {
     "name": "stdout",
     "output_type": "stream",
     "text": [
      "audio stream initialized\n",
      "[0.0, 0.439453125, 0.4921875, 0.013671875, 0.109375]\n",
      "3000.0 0.439453125 49.21875 1 10.9375\n",
      "[0.0, 0.44140625, 0.490234375, 0.013671875, 0.109375]\n",
      "3000.0 0.44140625 49.0234375 1 10.9375\n",
      "[0.0, 0.435546875, 0.490234375, 0.013671875, 0.109375]\n",
      "3000.0 0.435546875 49.0234375 1 10.9375\n",
      "[0.0, 0.4453125, 0.49609375, 0.013671875, 0.111328125]\n",
      "3000.0 0.4453125 49.609375 1 11.1328125\n",
      "[0.0, 0.44140625, 0.48828125, 0.013671875, 0.109375]\n",
      "3000.0 0.44140625 48.828125 1 10.9375\n",
      "[0.0, 0.439453125, 0.4921875, 0.013671875, 0.109375]\n",
      "3000.0 0.439453125 49.21875 1 10.9375\n",
      "[0.0, 0.4453125, 0.498046875, 0.013671875, 0.107421875]\n",
      "3000.0 0.4453125 49.8046875 1 10.7421875\n",
      "[0.0, 0.4375, 0.490234375, 0.013671875, 0.109375]\n",
      "3000.0 0.4375 49.0234375 1 10.9375\n",
      "[0.0, 0.439453125, 0.4921875, 0.013671875, 0.111328125]\n",
      "3000.0 0.439453125 49.21875 1 11.1328125\n",
      "[0.0, 0.43359375, 0.490234375, 0.013671875, 0.109375]\n",
      "3000.0 0.43359375 49.0234375 1 10.9375\n",
      "[0.0, 0.4375, 0.48828125, 0.013671875, 0.109375]\n",
      "3000.0 0.4375 48.828125 1 10.9375\n",
      "[0.0, 0.4375, 0.490234375, 0.013671875, 0.109375]\n",
      "3000.0 0.4375 49.0234375 1 10.9375\n",
      "[0.0, 0.435546875, 0.48828125, 0.013671875, 0.109375]\n",
      "3000.0 0.435546875 48.828125 1 10.9375\n",
      "[0.0, 0.435546875, 0.486328125, 0.013671875, 0.109375]\n",
      "3000.0 0.435546875 48.6328125 1 10.9375\n",
      "[0.0, 0.439453125, 0.498046875, 0.013671875, 0.109375]\n",
      "3000.0 0.439453125 49.8046875 1 10.9375\n",
      "[0.0, 0.439453125, 0.486328125, 0.013671875, 0.111328125]\n",
      "3000.0 0.439453125 48.6328125 1 11.1328125\n",
      "[0.0, 0.439453125, 0.486328125, 0.013671875, 0.109375]\n",
      "3000.0 0.439453125 48.6328125 1 10.9375\n",
      "[0.0, 0.43359375, 0.4921875, 0.013671875, 0.109375]\n",
      "3000.0 0.43359375 49.21875 1 10.9375\n",
      "[0.0, 0.435546875, 0.48828125, 0.013671875, 0.109375]\n",
      "3000.0 0.435546875 48.828125 1 10.9375\n",
      "[0.0, 0.4375, 0.490234375, 0.013671875, 0.10546875]\n",
      "3000.0 0.4375 49.0234375 1 10.546875\n",
      "[0.0, 0.4375, 0.48828125, 0.013671875, 0.109375]\n",
      "3000.0 0.4375 48.828125 1 10.9375\n",
      "[0.0, 0.43359375, 0.494140625, 0.013671875, 0.109375]\n",
      "3000.0 0.43359375 49.4140625 1 10.9375\n",
      "[0.0, 0.435546875, 0.486328125, 0.013671875, 0.109375]\n",
      "3000.0 0.435546875 48.6328125 1 10.9375\n",
      "[0.0, 0.439453125, 0.48828125, 0.013671875, 0.109375]\n",
      "3000.0 0.439453125 48.828125 1 10.9375\n",
      "[0.0, 0.439453125, 0.494140625, 0.013671875, 0.109375]\n",
      "3000.0 0.439453125 49.4140625 1 10.9375\n",
      "Interrupt!\n",
      "Done!\n",
      "close_audio: Terminating PyAudio Object\n"
     ]
    }
   ],
   "source": [
    "try:\n",
    "    \n",
    "    # set the starting frequency\n",
    "    freq = keys_list[0]\n",
    "\n",
    "    # numpy array for storing piezo readings\n",
    "    nDATA  = 1000 # num of datapoints in a packet\n",
    "    dPIEZO = np.zeros(nDATA,dtype='float')\n",
    "    \n",
    "    DIG_THRESH = 0 # signature for digaridoo playing\n",
    "\n",
    "    # initialize serial peripheral interfaces for potentiometers\n",
    "    spi1, spi2 = initSpi()\n",
    "    NUM_POTS = 5 # number of potentiometer values\n",
    "    pot_vals = [0]*NUM_POTS # for storing potentiometer readings\n",
    "    \n",
    "    # instantiate pyAudio output\n",
    "    out_stream = Output()\n",
    "    \n",
    "    while True:\n",
    "        # get a packet of data from the piezo\n",
    "        for i in range(nDATA):\n",
    "            dPIEZO[i] = readPiezo(spi1) #PIEZO element\n",
    "        # if the data has a signature of the resonating digeridoo\n",
    "        if np.amax(dPIEZO) > DIG_THRESH:\n",
    "            # collect all of the potentiometer values\n",
    "            for i in range(NUM_POTS):\n",
    "                # get a potentiometer reading\n",
    "                pot_val = readPot(i, spi1, spi2)\n",
    "                # normalize it and add it to the list\n",
    "                pot_vals[i] = normalizePotVal(pot_val)\n",
    "            print(pot_vals)\n",
    "            # generate an output signal\n",
    "            note = out_stream.note(freq, pot_vals)\n",
    "            # play the signal\n",
    "            out_stream.tone(note)\n",
    "            \n",
    "except(KeyboardInterrupt, SystemExit):\n",
    "    print(\"Interrupt!\")\n",
    "\n",
    "finally:\n",
    "    print(\"Done!\")\n",
    "    out_stream.close_audio();           "
   ]
  },
  {
   "cell_type": "code",
   "execution_count": 28,
   "metadata": {},
   "outputs": [
    {
     "data": {
      "image/png": "[encoded data removed]",
      "text/plain": [
       "<matplotlib.figure.Figure at 0x6cba0a50>"
      ]
     },
     "metadata": {
      "needs_background": "light"
     },
     "output_type": "display_data"
    }
   ],
   "source": [
    "data = out_stream.customNote(100, 1, amp=100, rate=1000, vibrato=2, vibratoFreq=8, trembelo=0, trembeloFreq=0)\n",
    "plt.plot(data[0:400])\n",
    "plt.title(\"Signal with Vibrato\")\n",
    "plt.xlabel(\"Time (ms)\")\n",
    "plt.ylabel(\"Amplitude (mV)\")\n",
    "plt.savefig('vibrato.jpg')\n",
    "plt.show()"
   ]
  },
  {
   "cell_type": "code",
   "execution_count": 33,
   "metadata": {},
   "outputs": [
    {
     "data": {
      "image/png": "[encoded data removed]",
      "text/plain": [
       "<matplotlib.figure.Figure at 0x6cb99c30>"
      ]
     },
     "metadata": {
      "needs_background": "light"
     },
     "output_type": "display_data"
    }
   ],
   "source": [
    "data = out_stream.customNote(100, 1, amp=100, rate=1000, vibrato=0, vibratoFreq=0, trembelo=0, trembeloFreq=0)\n",
    "plt.plot(data[0:100])\n",
    "plt.title(\"Basic Audio Signal\")\n",
    "plt.xlabel(\"Time (ms)\")\n",
    "plt.ylabel(\"Amplitude (mV)\")\n",
    "plt.savefig('basic.jpg')\n",
    "plt.show()"
   ]
  },
  {
   "cell_type": "code",
   "execution_count": null,
   "metadata": {},
   "outputs": [],
   "source": []
  },
  {
   "cell_type": "code",
   "execution_count": 9,
   "metadata": {},
   "outputs": [
    {
     "data": {
      "text/plain": [
       "'for i in range(5):\\n    plt.plot(data[i])\\n    plt.show()'"
      ]
     },
     "execution_count": 9,
     "metadata": {},
     "output_type": "execute_result"
    }
   ],
   "source": [
    "'''for i in range(5):\n",
    "    plt.plot(data[i])\n",
    "    plt.show()'''"
   ]
  },
  {
   "cell_type": "code",
   "execution_count": 10,
   "metadata": {},
   "outputs": [
    {
     "data": {
      "text/plain": [
       "'\\ndata = np.load(\"dig22Apr19.npy\")\\nupsamp_data = interp_upsamp(data, SAMP_DURATION=10, MAG_SCALAR=150)\\n\\n# play the output signal\\nout_stream.tone(out_stream.note(keys[\\'d4\\'], 1))\\nout_stream.tone(out_stream.note(keys[\\'e4\\'], 1))\\nout_stream.tone(out_stream.note(keys[\\'f4\\'], 1))\\nout_stream.tone(out_stream.note(keys[\\'g4\\'], 1))\\nout_stream.tone(out_stream.note(keys[\\'a4\\'], 1))\\nout_stream.tone(out_stream.note(keys[\\'b4\\'], 1))\\nout_stream.tone(out_stream.note(keys[\\'c5\\'], 1))\\n'"
      ]
     },
     "execution_count": 10,
     "metadata": {},
     "output_type": "execute_result"
    }
   ],
   "source": [
    "'''\n",
    "data = np.load(\"dig22Apr19.npy\")\n",
    "upsamp_data = interp_upsamp(data, SAMP_DURATION=10, MAG_SCALAR=150)\n",
    "\n",
    "# play the output signal\n",
    "out_stream.tone(out_stream.note(keys['d4'], 1))\n",
    "out_stream.tone(out_stream.note(keys['e4'], 1))\n",
    "out_stream.tone(out_stream.note(keys['f4'], 1))\n",
    "out_stream.tone(out_stream.note(keys['g4'], 1))\n",
    "out_stream.tone(out_stream.note(keys['a4'], 1))\n",
    "out_stream.tone(out_stream.note(keys['b4'], 1))\n",
    "out_stream.tone(out_stream.note(keys['c5'], 1))\n",
    "'''"
   ]
  }
 ],
 "metadata": {
  "kernelspec": {
   "display_name": "Python 3",
   "language": "python",
   "name": "python3"
  },
  "language_info": {
   "codemirror_mode": {
    "name": "ipython",
    "version": 3
   },
   "file_extension": ".py",
   "mimetype": "text/x-python",
   "name": "python",
   "nbconvert_exporter": "python",
   "pygments_lexer": "ipython3",
   "version": "3.5.3"
  }
 },
 "nbformat": 4,
 "nbformat_minor": 2
}

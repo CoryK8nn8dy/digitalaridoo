{
 "cells": [
  {
   "cell_type": "code",
   "execution_count": 8,
   "metadata": {},
   "outputs": [],
   "source": [
    "import time\n",
    "import math\n",
    "import pyaudio\n",
    "import numpy as np\n",
    "from scipy.signal import butter, lfilter, freqz\n",
    "import matplotlib.pyplot as plt\n",
    "import RPi.GPIO as GPIO\n",
    "import spiUtils as su"
   ]
  },
  {
   "cell_type": "markdown",
   "metadata": {},
   "source": [
    "### pyAudio functions"
   ]
  },
  {
   "cell_type": "code",
   "execution_count": 9,
   "metadata": {},
   "outputs": [],
   "source": [
    "#class for writing to speaker\n",
    "class Output:\n",
    "    pa = None;\n",
    "    s  = None;\n",
    "    #call this function to open output and create stream\n",
    "    def __init__(self,rate=8000):\n",
    "        \"\"\"\n",
    "        Output class constructor initializes and opens pyAudio output\n",
    "        stream. Allows sending audio data to an audio output device via python.\n",
    "        \"\"\"\n",
    "        #print (\"init_audio: Create PyAudio object\")\n",
    "        self.pa = pyaudio.PyAudio()\n",
    "        #print (\"init_audio: Open stream\")\n",
    "        self.s = self.pa.open(output=True,\n",
    "                channels=1,\n",
    "                rate=rate,\n",
    "                format=pyaudio.paInt16,\n",
    "                output_device_index=0)\n",
    "        print (\"audio stream initialized\")\n",
    "\n",
    "    def close_audio(self):\n",
    "        \"\"\"\n",
    "        Output class destructor closes and destructs output object\n",
    "        and associated pyAudio stream.\n",
    "        \"\"\"\n",
    "        #print (\"close_audio: Closing stream\")\n",
    "        self.s.close()\n",
    "        print (\"close_audio: Terminating PyAudio Object\")\n",
    "        self.pa.terminate()\n",
    "        \n",
    "    #create a numpy array of a given freqeuncy    \n",
    "    def note(self, freq, len, amp=5000, rate=8000, \n",
    "            vibrato=0,vibratoFreq=0):\n",
    "        \"\"\"\n",
    "        Creates a uniform note (a sinusoidal waveform of with characteristics specified\n",
    "        by function parameters) returned as a 16bit integer numpy array.\n",
    "        \"\"\"\n",
    "        t = np.linspace(0,len,len*rate)\n",
    "        freq_data= (freq + vibrato*np.sin(2*np.pi*t*vibratoFreq))\n",
    "        data = np.sin(2*np.pi*(freq + vibrato*np.sin(2*np.pi*t*vibratoFreq))*t)*amp\n",
    "        plt.plot(freq_data)\n",
    "        #np.savetxt('test.out', freq)\n",
    "        return data.astype(np.int16) # two byte integers\n",
    "    \n",
    "    \n",
    "    #write numpy array to stream\n",
    "    def tone(self, note):\n",
    "        \"\"\"\n",
    "        Takes a 16bit integer numpy array, representing a note, as an argument\n",
    "        and plays the represented note via the pyAudio stream.\n",
    "        \"\"\"\n",
    "        # generate sound\n",
    "        self.s.write(note)\n",
    "    \n",
    "    #add two numpy arrays together\n",
    "    def add_note(self, note1, note2):\n",
    "        \"\"\"\n",
    "        combines two notes (of the same length) element-wise to produce a new note.\n",
    "        \"\"\"\n",
    "        return note1 + note2\n",
    "    \n",
    "    "
   ]
  },
  {
   "cell_type": "markdown",
   "metadata": {},
   "source": [
    "### signal processing functions"
   ]
  },
  {
   "cell_type": "code",
   "execution_count": 10,
   "metadata": {},
   "outputs": [],
   "source": [
    "def butter_lowpass(cutoff, fs, order=5):\n",
    "    nyq = 0.5 * fs\n",
    "    normal_cutoff = cutoff / nyq\n",
    "    b, a = butter(order, normal_cutoff, btype='low', analog=False)\n",
    "    return b, a\n",
    "\n",
    "def butter_lowpass_filter(data, cutoff, fs, order=5):\n",
    "    b, a = butter_lowpass(cutoff, fs, order=order)\n",
    "    y = lfilter(b, a, data)\n",
    "    return y\n",
    "\n",
    "def interp_upsamp(data, SAMP_DURATION=10, MAG_SCALAR=1):\n",
    "    \"\"\"\n",
    "    Uses linear interpolation to upsample numpy arrays to a uniform shape\n",
    "    to accomodate the pyAudio stream parameters.\n",
    "    \"\"\"\n",
    "    SAMP_DURATION = float(SAMP_DURATION) # seconds\n",
    "    data_len = len(data)\n",
    "    fs = data_len / SAMP_DURATION\n",
    "    xp = np.arange(data_len)\n",
    "    x = np.linspace(0, data_len, 8000*int(SAMP_DURATION))\n",
    "    upsamp_data = np.interp(x, xp, data) * MAG_SCALAR\n",
    "    return upsamp_data"
   ]
  },
  {
   "cell_type": "markdown",
   "metadata": {},
   "source": [
    "### tone library"
   ]
  },
  {
   "cell_type": "code",
   "execution_count": 11,
   "metadata": {},
   "outputs": [],
   "source": [
    "keys = {\n",
    "    \"c4\": 261.63,\n",
    "    \"d4\": 293.66,\n",
    "    \"e4\": 329.63,\n",
    "    \"f4\": 349.23,\n",
    "    \"g4\": 392,\n",
    "    \"a4\": 440,\n",
    "    \"b4\": 493.88,\n",
    "    \"c5\": 523.25\n",
    "}"
   ]
  },
  {
   "cell_type": "code",
   "execution_count": 7,
   "metadata": {},
   "outputs": [
    {
     "data": {
      "image/png": "[encoded data removed]",
      "text/plain": [
       "<matplotlib.figure.Figure at 0x6db33c90>"
      ]
     },
     "metadata": {
      "needs_background": "light"
     },
     "output_type": "display_data"
    },
    {
     "data": {
      "image/png": "[encoded data removed]",
      "text/plain": [
       "<matplotlib.figure.Figure at 0x6cf93c30>"
      ]
     },
     "metadata": {
      "needs_background": "light"
     },
     "output_type": "display_data"
    },
    {
     "name": "stdout",
     "output_type": "stream",
     "text": [
      "80000\n",
      "audio stream initialized\n",
      "start playing tones\n",
      "Interrupt!\n",
      "Done!\n",
      "close_audio: Terminating PyAudio Object\n"
     ]
    },
    {
     "data": {
      "image/png": "[encoded data removed]",
      "text/plain": [
       "<matplotlib.figure.Figure at 0x6cfb0530>"
      ]
     },
     "metadata": {
      "needs_background": "light"
     },
     "output_type": "display_data"
    }
   ],
   "source": [
    "\n",
    "\n",
    "#this is all kinda random stuff\n",
    "try:\n",
    "        \n",
    "    data = np.load(\"dig22Apr19.npy\")\n",
    "\n",
    "    upsamp_data = interp_upsamp(data, SAMP_DURATION=10, MAG_SCALAR=150)\n",
    "    \n",
    "    plt.plot(data)\n",
    "    plt.show()\n",
    "    plt.plot(upsamp_data)\n",
    "    plt.show()\n",
    "    \n",
    "    print(len(upsamp_data))\n",
    "    #up_samp = 150 * up_samp\n",
    "    filtered_data = butter_lowpass_filter(upsamp_data, 200,8000, 5)\n",
    "    aO = Output()\n",
    "      # play tones forever    \n",
    "    print( \"start playing tones\")\n",
    "    while True:\n",
    "        \n",
    "        aO.tone(upsamp_data.astype(np.int16))\n",
    "        time.sleep(.5)\n",
    "        aO.tone(aO.note(keys['c4'], 1))\n",
    "        \n",
    "        #c1 = aO.note\n",
    "        #aO.tone(aO.note(keys['d4'], 1))\n",
    "        #aO.tone(aO.note(keys['e4'], 1))\n",
    "        #aO.tone(aO.note(keys['f4'], 1))\n",
    "        #aO.tone(aO.note(keys['g4'], 1))\n",
    "        #aO.tone(aO.note(keys['a4'], 1))\n",
    "        #aO.tone(aO.note(keys['b4'], 1))\n",
    "        #aO.tone(aO.note(keys['c5'], 1))\n",
    "        #time.sleep(1)\n",
    "        #aO.tone(aO.note(100, 10, vibrato=10,vibratoFreq=5))\n",
    "        #aO.tone(aO.note(keys['c4'], 1))\n",
    "        #aO.tone(aO.note(keys['c4'], 5, vibrato=.5,vibratoFreq=5000))\n",
    "        \n",
    "        \n",
    "except(KeyboardInterrupt, SystemExit):\n",
    "    print(\"Interrupt!\")\n",
    "\n",
    "finally:\n",
    "    print(\"Done!\")\n",
    "    aO.close_audio();           \n",
    "         "
   ]
  },
  {
   "cell_type": "code",
   "execution_count": 17,
   "metadata": {},
   "outputs": [
    {
     "data": {
      "image/png": "[encoded data removed]",
      "text/plain": [
       "<matplotlib.figure.Figure at 0x6dd2e7d0>"
      ]
     },
     "metadata": {
      "needs_background": "light"
     },
     "output_type": "display_data"
    },
    {
     "name": "stdout",
     "output_type": "stream",
     "text": [
      "Done!\n",
      "close_audio: Terminating PyAudio Object\n"
     ]
    }
   ],
   "source": [
    "\n",
    "\n",
    "try:\n",
    "    # This n value takes a few seconds to run so you can test\n",
    "    nDATA  = 1000\n",
    "    #toVolt = 3.3/1023\n",
    "    dPIEZO = np.zeros(nDATA,dtype='float')\n",
    "\n",
    "        \n",
    "    plt.plot(dPIEZO,'k');\n",
    "    plt.show()    \n",
    "   \n",
    "    #while True:\n",
    "    # get a packet of data from the piezo\n",
    "    for i in range(nDATA):\n",
    "        #dPIEZO[i] = toVolt * su.readADC(channel=0) # PIEZO element\n",
    "        dPIEZO[i] = su.readADC(channel=0) # PIEZO element\n",
    "    \n",
    "    # if the data has a signature of the resonating digeridoo\n",
    "    if np.amax(dPiezo) > .02:\n",
    "        # collect all of the potentiometer values\n",
    "        \n",
    "        # generate an output signal\n",
    "        \n",
    "        # play the output signal\n",
    "        \n",
    "    # otherwise, continue\n",
    "        \n",
    "except(KeyboardInterrupt, SystemExit):\n",
    "    print(\"Interrupt!\")\n",
    "\n",
    "finally:\n",
    "    print(\"Done!\")\n",
    "    aO.close_audio();           "
   ]
  }
 ],
 "metadata": {
  "kernelspec": {
   "display_name": "Python 3",
   "language": "python",
   "name": "python3"
  },
  "language_info": {
   "codemirror_mode": {
    "name": "ipython",
    "version": 3
   },
   "file_extension": ".py",
   "mimetype": "text/x-python",
   "name": "python",
   "nbconvert_exporter": "python",
   "pygments_lexer": "ipython3",
   "version": "3.5.3"
  }
 },
 "nbformat": 4,
 "nbformat_minor": 2
}
